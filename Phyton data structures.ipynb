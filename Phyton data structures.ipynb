{
 "cells": [
  {
   "cell_type": "code",
   "execution_count": 2,
   "id": "cd253656-7253-46ba-99b7-ea631039ab06",
   "metadata": {},
   "outputs": [
    {
     "data": {
      "text/plain": [
       "10"
      ]
     },
     "execution_count": 2,
     "metadata": {},
     "output_type": "execute_result"
    }
   ],
   "source": [
    "#Data Structures \n",
    "## Lists\n",
    "lst = [1,2,3,4,5,6,7,8,9,10]\n",
    "lst[9]"
   ]
  },
  {
   "cell_type": "code",
   "execution_count": 3,
   "id": "04ba64ea-5a1e-4036-9be8-8dbd6bdf3924",
   "metadata": {},
   "outputs": [
    {
     "data": {
      "text/plain": [
       "10"
      ]
     },
     "execution_count": 3,
     "metadata": {},
     "output_type": "execute_result"
    }
   ],
   "source": [
    "lst = [1,2,3,4,5,6,7,8,9,10]\n",
    "lst[-1]"
   ]
  },
  {
   "cell_type": "code",
   "execution_count": 4,
   "id": "523a1e3b-f6dd-45c9-98a7-a7b4ca33f6fb",
   "metadata": {},
   "outputs": [
    {
     "data": {
      "text/plain": [
       "8"
      ]
     },
     "execution_count": 4,
     "metadata": {},
     "output_type": "execute_result"
    }
   ],
   "source": [
    "lst = [1,2,3,4,5,6,7,8,9,10]\n",
    "lst[-3]"
   ]
  },
  {
   "cell_type": "code",
   "execution_count": 8,
   "id": "59f470e5-b9d1-4f76-b089-cc49bc995abc",
   "metadata": {},
   "outputs": [
    {
     "data": {
      "text/plain": [
       "[1, 2, 3, 4, 5]"
      ]
     },
     "execution_count": 8,
     "metadata": {},
     "output_type": "execute_result"
    }
   ],
   "source": [
    "#slicing(using \":\") \n",
    "#lst [start:end:step:]\n",
    "lst = [1,2,3,4,5,6,7,8,9,10]\n",
    "lst[0:5]"
   ]
  },
  {
   "cell_type": "code",
   "execution_count": 10,
   "id": "065c6b15-7af3-4435-8aef-66be9961f348",
   "metadata": {},
   "outputs": [
    {
     "data": {
      "text/plain": [
       "[4, 5, 6, 7, 8]"
      ]
     },
     "execution_count": 10,
     "metadata": {},
     "output_type": "execute_result"
    }
   ],
   "source": [
    "lst = [1,2,3,4,5,6,7,8,9,10]\n",
    "lst[3:8]"
   ]
  },
  {
   "cell_type": "code",
   "execution_count": 14,
   "id": "c0a2d890-73d1-46e5-8690-e8a0f9e80f6a",
   "metadata": {},
   "outputs": [
    {
     "data": {
      "text/plain": [
       "[7, 8, 9, 10]"
      ]
     },
     "execution_count": 14,
     "metadata": {},
     "output_type": "execute_result"
    }
   ],
   "source": [
    "lst = [1,2,3,4,5,6,7,8,9,10]\n",
    "lst[-4:]"
   ]
  },
  {
   "cell_type": "code",
   "execution_count": 15,
   "id": "3c6ff4de-e498-4848-ac61-3b9d5ca53fff",
   "metadata": {},
   "outputs": [
    {
     "data": {
      "text/plain": [
       "[1, 2, 3, 4, 5, 6, 7, 8, 9, 10]"
      ]
     },
     "execution_count": 15,
     "metadata": {},
     "output_type": "execute_result"
    }
   ],
   "source": [
    "lst = [1,2,3,4,5,6,7,8,9,10]\n",
    "lst[0:]"
   ]
  },
  {
   "cell_type": "code",
   "execution_count": 28,
   "id": "1814eb0e-fe9b-492a-8467-440696f5a6ad",
   "metadata": {},
   "outputs": [
    {
     "data": {
      "text/plain": [
       "[10, 9, 8, 7, 6, 5, 4, 3, 2, 1]"
      ]
     },
     "execution_count": 28,
     "metadata": {},
     "output_type": "execute_result"
    }
   ],
   "source": [
    "lst = [1,2,3,4,5,6,7,8,9,10]\n",
    "lst[10::-1]"
   ]
  },
  {
   "cell_type": "code",
   "execution_count": 25,
   "id": "d315f742-dc5b-42aa-87c6-1455f66715aa",
   "metadata": {},
   "outputs": [
    {
     "data": {
      "text/plain": [
       "[1, 3, 5, 7, 9]"
      ]
     },
     "execution_count": 25,
     "metadata": {},
     "output_type": "execute_result"
    }
   ],
   "source": [
    "lst = [1,2,3,4,5,6,7,8,9,10]\n",
    "lst[0:10:2]"
   ]
  },
  {
   "cell_type": "code",
   "execution_count": 33,
   "id": "7771f073-018e-464f-b61d-6a0940a6fc15",
   "metadata": {},
   "outputs": [
    {
     "data": {
      "text/plain": [
       "[10, 9, 8, 7]"
      ]
     },
     "execution_count": 33,
     "metadata": {},
     "output_type": "execute_result"
    }
   ],
   "source": [
    "lst = [1,2,3,4,5,6,7,8,9,10]\n",
    "lst[9:5:-1]"
   ]
  },
  {
   "cell_type": "code",
   "execution_count": 40,
   "id": "87e1fa52-dd49-471a-9598-e9500326f2b6",
   "metadata": {},
   "outputs": [
    {
     "data": {
      "text/plain": [
       "[2, 3, 4, 5]"
      ]
     },
     "execution_count": 40,
     "metadata": {},
     "output_type": "execute_result"
    }
   ],
   "source": [
    "lst = [1,2,3,4,5,6,7,8,9,10]\n",
    "lst[-9:-5]"
   ]
  },
  {
   "cell_type": "code",
   "execution_count": 42,
   "id": "468e0b29-da89-4677-931d-bf51c15a9c97",
   "metadata": {},
   "outputs": [
    {
     "data": {
      "text/plain": [
       "[1, 6]"
      ]
     },
     "execution_count": 42,
     "metadata": {},
     "output_type": "execute_result"
    }
   ],
   "source": [
    "lst = [1,2,3,4,5,6,7,8,9,10]\n",
    "lst[::5]"
   ]
  },
  {
   "cell_type": "code",
   "execution_count": 44,
   "id": "7362b332-07c5-4969-88b0-dd356ddb5804",
   "metadata": {},
   "outputs": [
    {
     "data": {
      "text/plain": [
       "[1, 2, 3, 4, 5]"
      ]
     },
     "execution_count": 44,
     "metadata": {},
     "output_type": "execute_result"
    }
   ],
   "source": [
    "lst = [1,2,3,4,5,6,7,8,9,10]\n",
    "lst[:-5]"
   ]
  },
  {
   "cell_type": "code",
   "execution_count": 45,
   "id": "b5c6fb7f-6c86-4729-9155-c5b335c3490b",
   "metadata": {},
   "outputs": [
    {
     "data": {
      "text/plain": [
       "[1, 2, 3, 4, 5, 6, 7, 8, 9, 10]"
      ]
     },
     "execution_count": 45,
     "metadata": {},
     "output_type": "execute_result"
    }
   ],
   "source": [
    "lst"
   ]
  },
  {
   "cell_type": "code",
   "execution_count": 50,
   "id": "1bfb9247-fba0-4db8-a420-647ee3641966",
   "metadata": {},
   "outputs": [
    {
     "data": {
      "text/plain": [
       "['banana', 'apple', 'watermelon', 'mango', 'grapes', 'orange']"
      ]
     },
     "execution_count": 50,
     "metadata": {},
     "output_type": "execute_result"
    }
   ],
   "source": [
    "fruits = ['banana','apple','watermelon','mango','grapes','orange']\n",
    "fruits"
   ]
  },
  {
   "cell_type": "code",
   "execution_count": 51,
   "id": "438e80f3-684a-462a-b886-03574d3d1474",
   "metadata": {},
   "outputs": [
    {
     "data": {
      "text/plain": [
       "list"
      ]
     },
     "execution_count": 51,
     "metadata": {},
     "output_type": "execute_result"
    }
   ],
   "source": [
    "type(fruits)"
   ]
  },
  {
   "cell_type": "code",
   "execution_count": 53,
   "id": "89091a77-d2a1-49ff-b2dc-2bc91b12fbbd",
   "metadata": {},
   "outputs": [
    {
     "data": {
      "text/plain": [
       "['banana', 'apple', 'watermelon']"
      ]
     },
     "execution_count": 53,
     "metadata": {},
     "output_type": "execute_result"
    }
   ],
   "source": [
    "fruits[0:3]"
   ]
  },
  {
   "cell_type": "code",
   "execution_count": 56,
   "id": "08cd82b2-6ba4-44d1-8ac9-0f9dc8ee8193",
   "metadata": {},
   "outputs": [
    {
     "data": {
      "text/plain": [
       "'orange'"
      ]
     },
     "execution_count": 56,
     "metadata": {},
     "output_type": "execute_result"
    }
   ],
   "source": [
    "fruits[-1]\n"
   ]
  },
  {
   "cell_type": "code",
   "execution_count": 2,
   "id": "533b1f0b-d001-44fd-be96-b51297cd7f3f",
   "metadata": {},
   "outputs": [
    {
     "data": {
      "text/plain": [
       "['banana', 'apple', 'watermelon', [0, 1], 'mango', 'grapes', 'orange']"
      ]
     },
     "execution_count": 2,
     "metadata": {},
     "output_type": "execute_result"
    }
   ],
   "source": [
    "fruits = ['banana','apple','watermelon',[0,1],'mango','grapes','orange']\n",
    "fruits"
   ]
  },
  {
   "cell_type": "code",
   "execution_count": 3,
   "id": "0869dc4c-2b00-4de6-b5c6-2f12380667fc",
   "metadata": {},
   "outputs": [
    {
     "data": {
      "text/plain": [
       "[0, 1]"
      ]
     },
     "execution_count": 3,
     "metadata": {},
     "output_type": "execute_result"
    }
   ],
   "source": [
    "fruits[3]"
   ]
  },
  {
   "cell_type": "code",
   "execution_count": 4,
   "id": "41a9711d-f2a2-4b2e-afac-c38d37f611c9",
   "metadata": {},
   "outputs": [
    {
     "data": {
      "text/plain": [
       "'grapes'"
      ]
     },
     "execution_count": 4,
     "metadata": {},
     "output_type": "execute_result"
    }
   ],
   "source": [
    "fruits[5]"
   ]
  },
  {
   "cell_type": "code",
   "execution_count": 3,
   "id": "cdf2dd7b-76e7-4bad-a74c-6fa1b3907dc9",
   "metadata": {},
   "outputs": [
    {
     "data": {
      "text/plain": [
       "['banana', 'apple', 'watermelon', 'mango', 'grapes', 'orange', 'jackfruit']"
      ]
     },
     "execution_count": 3,
     "metadata": {},
     "output_type": "execute_result"
    }
   ],
   "source": [
    "#methods of list \n",
    "# Append()\n",
    "fruits = ['banana','apple','watermelon','mango','grapes','orange']\n",
    "fruits.append('jackfruit')\n",
    "fruits"
   ]
  },
  {
   "cell_type": "code",
   "execution_count": 14,
   "id": "878dc7a1-c697-4bf8-9b8f-38d4833dbc50",
   "metadata": {},
   "outputs": [
    {
     "name": "stdout",
     "output_type": "stream",
     "text": [
      "['banana', 'apple', 'watermelon', 'mango', 'grapes', 'orange', 'guava', 'dragon']\n"
     ]
    }
   ],
   "source": [
    "#extend()\n",
    "fruits = ['banana','apple','watermelon','mango','grapes','orange']\n",
    "fruits.extend(['guava','dragon'])\n",
    "print(fruits)"
   ]
  },
  {
   "cell_type": "code",
   "execution_count": 15,
   "id": "7367b06d-5bfc-4c19-a021-0c2a9553288f",
   "metadata": {},
   "outputs": [
    {
     "name": "stdout",
     "output_type": "stream",
     "text": [
      "[1, 2, 3, 4, 5, 6, 7, 8, 9, 10, 11]\n"
     ]
    }
   ],
   "source": [
    "lst = [1,2,3,4,5,6,7,8,9,10]\n",
    "lst.append(11)\n",
    "print(lst)"
   ]
  },
  {
   "cell_type": "code",
   "execution_count": 16,
   "id": "fe6372cf-acc2-4f3e-8d4d-7b8dfc927574",
   "metadata": {},
   "outputs": [
    {
     "name": "stdout",
     "output_type": "stream",
     "text": [
      "[1, 2, 3, 4, 5, 6, 7, 8, 9, 10, 11, 12, 13]\n"
     ]
    }
   ],
   "source": [
    "lst = [1,2,3,4,5,6,7,8,9,10]\n",
    "lst.extend([11,12,13])\n",
    "print(lst)"
   ]
  },
  {
   "cell_type": "code",
   "execution_count": 17,
   "id": "807c057d-9d67-4568-904a-0d19e070ac4c",
   "metadata": {},
   "outputs": [
    {
     "name": "stdout",
     "output_type": "stream",
     "text": [
      "[1, 2, 3, 4, 100, 5, 6, 7, 8, 9, 10]\n"
     ]
    }
   ],
   "source": [
    "#insert\n",
    "lst = [1,2,3,4,5,6,7,8,9,10]\n",
    "lst.insert(4,100)\n",
    "print(lst)"
   ]
  },
  {
   "cell_type": "code",
   "execution_count": 23,
   "id": "1ca0024e-8ac4-4044-a62f-8a6b7b69f512",
   "metadata": {},
   "outputs": [
    {
     "name": "stdout",
     "output_type": "stream",
     "text": [
      "['banana', 'apple', 'watermelon', 'mango', 'apple', 'grapes', 'orange']\n"
     ]
    }
   ],
   "source": [
    "fruits = ['banana','apple','watermelon','mango','grapes','orange']\n",
    "fruits.insert(4,'apple') # apple is added on the 4th index position\n",
    "print(fruits)"
   ]
  },
  {
   "cell_type": "code",
   "execution_count": 22,
   "id": "43383d8f-c572-43b5-bf0c-e9141ee8a2f6",
   "metadata": {},
   "outputs": [
    {
     "name": "stdout",
     "output_type": "stream",
     "text": [
      "[2, 7, 5, 3, 11, 8, 1, 7, 4, 0]\n"
     ]
    }
   ],
   "source": [
    "lst = [2,7,5,3,8,1,7,4,0]\n",
    "lst.insert(4,11)\n",
    "print(lst)"
   ]
  },
  {
   "cell_type": "code",
   "execution_count": 24,
   "id": "d2b6f487-e49f-4024-b6c8-a22d1dc38404",
   "metadata": {},
   "outputs": [
    {
     "name": "stdout",
     "output_type": "stream",
     "text": [
      "['banana', 'apple', 'mango', 'grapes', 'orange']\n"
     ]
    }
   ],
   "source": [
    "#remove \n",
    "fruits = ['banana','apple','watermelon','mango','grapes','orange']\n",
    "fruits.remove('watermelon')\n",
    "print(fruits)"
   ]
  },
  {
   "cell_type": "code",
   "execution_count": 26,
   "id": "bc342a36-6364-4157-9bb6-c019cb8f4f43",
   "metadata": {},
   "outputs": [
    {
     "name": "stdout",
     "output_type": "stream",
     "text": [
      "['banana', 'watermelon', 'mango', 'apple', 'grapes', 'orange']\n"
     ]
    }
   ],
   "source": [
    "fruits = ['banana', 'apple', 'watermelon', 'mango', 'apple', 'grapes', 'orange']\n",
    "fruits.remove('apple')\n",
    "print(fruits)"
   ]
  },
  {
   "cell_type": "code",
   "execution_count": 27,
   "id": "ac9e2c8a-3b1b-4db1-ac8d-3ab061077b4e",
   "metadata": {},
   "outputs": [
    {
     "name": "stdout",
     "output_type": "stream",
     "text": [
      "['banana', 'apple', 'mango', 'orange']\n"
     ]
    }
   ],
   "source": [
    "#pop\n",
    "fruits = ['banana', 'apple', 'mango', 'grapes', 'orange']\n",
    "fruits.pop(3)\n",
    "print(fruits)\n"
   ]
  },
  {
   "cell_type": "code",
   "execution_count": 28,
   "id": "a40ac6bf-04d1-4130-83af-7833371ccc67",
   "metadata": {},
   "outputs": [
    {
     "name": "stdout",
     "output_type": "stream",
     "text": [
      "[]\n"
     ]
    }
   ],
   "source": [
    "#clear\n",
    "fruits = ['banana', 'apple', 'mango', 'grapes', 'orange']\n",
    "fruits.clear()\n",
    "print(fruits)"
   ]
  },
  {
   "cell_type": "code",
   "execution_count": 29,
   "id": "4a23f653-776f-4e0a-9d8a-8382ce17ad65",
   "metadata": {},
   "outputs": [
    {
     "data": {
      "text/plain": [
       "[]"
      ]
     },
     "execution_count": 29,
     "metadata": {},
     "output_type": "execute_result"
    }
   ],
   "source": [
    "fruits"
   ]
  },
  {
   "cell_type": "code",
   "execution_count": 32,
   "id": "4fc47bf6-6e94-43de-9699-97354c1cd089",
   "metadata": {},
   "outputs": [
    {
     "data": {
      "text/plain": [
       "2"
      ]
     },
     "execution_count": 32,
     "metadata": {},
     "output_type": "execute_result"
    }
   ],
   "source": [
    "#index\n",
    "names = [9,'apple',5.2,'banana',2325,22.22]\n",
    "names.index(5.2)"
   ]
  },
  {
   "cell_type": "code",
   "execution_count": 33,
   "id": "7ac768e8-4a41-4775-9599-e613acb3f065",
   "metadata": {},
   "outputs": [
    {
     "name": "stdout",
     "output_type": "stream",
     "text": [
      "5\n"
     ]
    }
   ],
   "source": [
    "#count\n",
    "nums = [3,6,2,7,3,2,8,0,3,3,3]\n",
    "print(nums.count(3))"
   ]
  },
  {
   "cell_type": "code",
   "execution_count": 35,
   "id": "a5f73950-34ff-44d0-999e-3d89ba0b4d32",
   "metadata": {},
   "outputs": [
    {
     "name": "stdout",
     "output_type": "stream",
     "text": [
      "[0, 2, 2, 3, 3, 3, 3, 3, 6, 7, 8]\n"
     ]
    }
   ],
   "source": [
    "#sort\n",
    "nums = [3,6,2,7,3,2,8,0,3,3,3]\n",
    "nums.sort()\n",
    "print(nums)"
   ]
  },
  {
   "cell_type": "code",
   "execution_count": 37,
   "id": "0725431f-795e-48ed-a77c-1a02b4653444",
   "metadata": {},
   "outputs": [
    {
     "name": "stdout",
     "output_type": "stream",
     "text": [
      "[0, 8, 2, 3, 7, 2, 6, 3]\n"
     ]
    }
   ],
   "source": [
    "#reverse\n",
    "nums = [3,6,2,7,3,2,8,0]\n",
    "nums.reverse()\n",
    "print(nums)"
   ]
  },
  {
   "cell_type": "code",
   "execution_count": 40,
   "id": "bc45accb-6f46-42ae-8dcf-eb0a42e1a65e",
   "metadata": {},
   "outputs": [
    {
     "name": "stdout",
     "output_type": "stream",
     "text": [
      "[3, 6, 2, 7, 3, 2, 8, 0]\n"
     ]
    }
   ],
   "source": [
    "#copy\n",
    "nums = [3,6,2,7,3,2,8,0]\n",
    "lst = nums.copy()\n",
    "print(lst)"
   ]
  },
  {
   "cell_type": "code",
   "execution_count": 41,
   "id": "25f3d5c3-1a9c-44f0-8e9e-1de191c71e30",
   "metadata": {},
   "outputs": [
    {
     "name": "stdout",
     "output_type": "stream",
     "text": [
      "[3, 6, 2, 7, 3, 2, 8, 0]\n"
     ]
    }
   ],
   "source": [
    "nums = [3,6,2,7,3,2,8,0]\n",
    "lst = [1,2,3,4]\n",
    "lst = nums.copy()\n",
    "print(lst)"
   ]
  },
  {
   "cell_type": "code",
   "execution_count": 42,
   "id": "c788363a-0876-46f3-baa9-b2a4f34d9e0d",
   "metadata": {},
   "outputs": [
    {
     "name": "stdout",
     "output_type": "stream",
     "text": [
      "8\n"
     ]
    }
   ],
   "source": [
    "#len\n",
    "nums = [3,6,2,7,3,2,8,0]\n",
    "print(len(nums))\n"
   ]
  },
  {
   "cell_type": "code",
   "execution_count": 44,
   "id": "52ddc411-d7da-4598-ba42-2474dd1adda3",
   "metadata": {},
   "outputs": [
    {
     "name": "stdout",
     "output_type": "stream",
     "text": [
      "[3, 6, 2, 7, 8, 0]\n"
     ]
    }
   ],
   "source": [
    "#example program\n",
    "nums = [3,6,2,7,3,2,8,0]\n",
    "new_lst = []\n",
    "for i in nums:\n",
    "    if i not in new_lst:    # if 3 not in new_lst it will append into the new_lst\n",
    "        new_lst.append(i)\n",
    "print(new_lst)        \n"
   ]
  },
  {
   "cell_type": "code",
   "execution_count": 45,
   "id": "47dc74d7-7498-43e4-b8b2-f431bd9057b9",
   "metadata": {},
   "outputs": [
    {
     "data": {
      "text/plain": [
       "list"
      ]
     },
     "execution_count": 45,
     "metadata": {},
     "output_type": "execute_result"
    }
   ],
   "source": [
    "type(nums)"
   ]
  },
  {
   "cell_type": "code",
   "execution_count": 1,
   "id": "3b7e4430-ff2c-43d4-8fb9-e3892052c673",
   "metadata": {},
   "outputs": [
    {
     "data": {
      "text/plain": [
       "tuple"
      ]
     },
     "execution_count": 1,
     "metadata": {},
     "output_type": "execute_result"
    }
   ],
   "source": [
    "#tuple\n",
    "t = (1,4,3,6)\n",
    "type(t)"
   ]
  },
  {
   "cell_type": "code",
   "execution_count": 2,
   "id": "f9011b4f-550b-44ad-8704-9f497c2e6b5a",
   "metadata": {},
   "outputs": [
    {
     "data": {
      "text/plain": [
       "[1, 4, 3, 6]"
      ]
     },
     "execution_count": 2,
     "metadata": {},
     "output_type": "execute_result"
    }
   ],
   "source": [
    "list(t)"
   ]
  },
  {
   "cell_type": "code",
   "execution_count": 3,
   "id": "654bd616-dc9d-42ae-867a-273411b774c4",
   "metadata": {},
   "outputs": [
    {
     "data": {
      "text/plain": [
       "23"
      ]
     },
     "execution_count": 3,
     "metadata": {},
     "output_type": "execute_result"
    }
   ],
   "source": [
    "t1 = (1,'apple',9.5,23,45.76,'orange')\n",
    "t1[3]"
   ]
  },
  {
   "cell_type": "code",
   "execution_count": 7,
   "id": "d5542cf3-3d6d-488c-841d-f2a8a25b071f",
   "metadata": {},
   "outputs": [
    {
     "data": {
      "text/plain": [
       "23"
      ]
     },
     "execution_count": 7,
     "metadata": {},
     "output_type": "execute_result"
    }
   ],
   "source": [
    "t1 = (1,'apple',(9.5,23),[45.76,'orange'])\n",
    "t1[2][1]"
   ]
  },
  {
   "cell_type": "code",
   "execution_count": 8,
   "id": "44370877-6480-4bfa-863c-7ff3a7a0b444",
   "metadata": {},
   "outputs": [
    {
     "data": {
      "text/plain": [
       "45.76"
      ]
     },
     "execution_count": 8,
     "metadata": {},
     "output_type": "execute_result"
    }
   ],
   "source": [
    "t1[3][0]"
   ]
  },
  {
   "cell_type": "code",
   "execution_count": 9,
   "id": "fa65560f-087d-415f-adad-36581f91e137",
   "metadata": {},
   "outputs": [
    {
     "data": {
      "text/plain": [
       "('apple', (9.5, 23), [45.76, 'orange'])"
      ]
     },
     "execution_count": 9,
     "metadata": {},
     "output_type": "execute_result"
    }
   ],
   "source": [
    "t1[1:]"
   ]
  },
  {
   "cell_type": "code",
   "execution_count": 10,
   "id": "0b31e838-7694-432b-8eee-f4202ab00f1a",
   "metadata": {},
   "outputs": [
    {
     "data": {
      "text/plain": [
       "4"
      ]
     },
     "execution_count": 10,
     "metadata": {},
     "output_type": "execute_result"
    }
   ],
   "source": [
    "len(t1)"
   ]
  },
  {
   "cell_type": "code",
   "execution_count": 11,
   "id": "647a3780-5452-4b3b-a85a-d51c3ba8505f",
   "metadata": {},
   "outputs": [
    {
     "ename": "TypeError",
     "evalue": "'tuple' object does not support item assignment",
     "output_type": "error",
     "traceback": [
      "\u001b[1;31m---------------------------------------------------------------------------\u001b[0m",
      "\u001b[1;31mTypeError\u001b[0m                                 Traceback (most recent call last)",
      "Cell \u001b[1;32mIn[11], line 3\u001b[0m\n\u001b[0;32m      1\u001b[0m \u001b[38;5;66;03m# immutable : we cqnnot change the data in a tuple \u001b[39;00m\n\u001b[0;32m      2\u001b[0m t1 \u001b[38;5;241m=\u001b[39m (\u001b[38;5;241m1\u001b[39m,\u001b[38;5;124m'\u001b[39m\u001b[38;5;124mapple\u001b[39m\u001b[38;5;124m'\u001b[39m,\u001b[38;5;241m9.5\u001b[39m,\u001b[38;5;241m23\u001b[39m,\u001b[38;5;241m45.76\u001b[39m,\u001b[38;5;124m'\u001b[39m\u001b[38;5;124morange\u001b[39m\u001b[38;5;124m'\u001b[39m)\n\u001b[1;32m----> 3\u001b[0m t1[\u001b[38;5;241m1\u001b[39m] \u001b[38;5;241m=\u001b[39m \u001b[38;5;124m'\u001b[39m\u001b[38;5;124mmango\u001b[39m\u001b[38;5;124m'\u001b[39m\n",
      "\u001b[1;31mTypeError\u001b[0m: 'tuple' object does not support item assignment"
     ]
    }
   ],
   "source": [
    "# immutable : we cqnnot change the data in a tuple \n",
    "t1 = (1,'apple',9.5,23,45.76,'orange')\n",
    "t1[1] = 'mango'"
   ]
  },
  {
   "cell_type": "code",
   "execution_count": 15,
   "id": "18e9a3e9-a006-488b-9111-351d68f0eff9",
   "metadata": {},
   "outputs": [
    {
     "name": "stdout",
     "output_type": "stream",
     "text": [
      "(3, 4, 5, 6, 2, 3, 4, 5)\n",
      "(3, 4, 5, 6, 3, 4, 5, 6, 3, 4, 5, 6, 3, 4, 5, 6)\n",
      "4\n",
      "True\n"
     ]
    }
   ],
   "source": [
    "# tuple operations\n",
    "t2 = (3,4,5,6)\n",
    "t3 = (2,3,4,5)\n",
    "print(t2+t3) # concatenation process\n",
    "print(t2*4) # repeaatation\n",
    "print(len(t2)) #length of the tuple\n",
    "print(3 in t2) # membership"
   ]
  },
  {
   "cell_type": "code",
   "execution_count": 16,
   "id": "f18e7aa5-1615-4fd9-a31e-22ae109f2892",
   "metadata": {},
   "outputs": [
    {
     "name": "stdout",
     "output_type": "stream",
     "text": [
      "3\n"
     ]
    }
   ],
   "source": [
    "# tuple methods\n",
    "#count of an element\n",
    "t1 = (1,'apple',9.5,23,45.76,'orange',1,1)\n",
    "print(t1.count(1))"
   ]
  },
  {
   "cell_type": "code",
   "execution_count": 17,
   "id": "b9a7e719-6ba2-4c6c-a0b0-71fcd26a9547",
   "metadata": {},
   "outputs": [
    {
     "name": "stdout",
     "output_type": "stream",
     "text": [
      "0\n"
     ]
    }
   ],
   "source": [
    "#index\n",
    "t1 = (1,'apple',9.5,23,45.76,'orange')\n",
    "print(t1.index(1))"
   ]
  },
  {
   "cell_type": "code",
   "execution_count": 19,
   "id": "c49c37a1-9729-43cf-ae4a-ccdd0ff5b890",
   "metadata": {},
   "outputs": [
    {
     "name": "stdout",
     "output_type": "stream",
     "text": [
      "1\n",
      "2\n",
      "3\n",
      "4\n",
      "5\n",
      "6\n",
      "7\n",
      "8\n",
      "9\n"
     ]
    }
   ],
   "source": [
    "t1 = (1,2,3,4,5,6,7,8,9)\n",
    "for i in t1:\n",
    "    print(i)"
   ]
  },
  {
   "cell_type": "code",
   "execution_count": 20,
   "id": "d545c9a7-8b5a-4c77-9019-7079bbb5e149",
   "metadata": {},
   "outputs": [
    {
     "name": "stdout",
     "output_type": "stream",
     "text": [
      "rohan\n",
      "17\n",
      "btech\n"
     ]
    }
   ],
   "source": [
    "#tuple unpacking \n",
    "tup = ('rohan',17,'btech')\n",
    "(name,age,qualification) = tup\n",
    "print(name)\n",
    "print(age)\n",
    "print(qualification)"
   ]
  },
  {
   "cell_type": "code",
   "execution_count": 21,
   "id": "7d0fa186-3808-42de-92eb-12f56aa4f945",
   "metadata": {},
   "outputs": [
    {
     "name": "stdout",
     "output_type": "stream",
     "text": [
      "(15, 5, 50)\n"
     ]
    }
   ],
   "source": [
    "def calculate(a,b):\n",
    "    return (a+b,a-b,a*b)\n",
    "result = calculate(10,5)\n",
    "print(result)\n"
   ]
  },
  {
   "cell_type": "code",
   "execution_count": 22,
   "id": "90fa111e-0fcc-4c95-b747-941617fed7d1",
   "metadata": {},
   "outputs": [
    {
     "name": "stdout",
     "output_type": "stream",
     "text": [
      "15\n",
      "5\n",
      "50\n"
     ]
    }
   ],
   "source": [
    "add,sub,mul = calculate (10,5)\n",
    "print(add)\n",
    "print(sub)\n",
    "print(mul)"
   ]
  },
  {
   "cell_type": "code",
   "execution_count": 1,
   "id": "8d034605-c3cb-484f-b079-0470d89acf77",
   "metadata": {},
   "outputs": [],
   "source": [
    "# Strings\n",
    "s1 = 'python'\n",
    "s2 = \"program\"\n",
    "s3 = '''this is multi line string'''"
   ]
  },
  {
   "cell_type": "code",
   "execution_count": 3,
   "id": "f80052aa-92b9-458e-816e-98186e6d3e6b",
   "metadata": {},
   "outputs": [
    {
     "name": "stdout",
     "output_type": "stream",
     "text": [
      "hello rohan\n"
     ]
    }
   ],
   "source": [
    "# string concatenation (adding of two string)\n",
    "s = 'rohan'\n",
    "name = \"hello \"+ s\n",
    "print(name)"
   ]
  },
  {
   "cell_type": "code",
   "execution_count": 5,
   "id": "47f74e96-c724-4198-af00-eef8a933586c",
   "metadata": {},
   "outputs": [
    {
     "name": "stdout",
     "output_type": "stream",
     "text": [
      " apple  apple  apple \n"
     ]
    }
   ],
   "source": [
    "# repeatation\n",
    "word = ' apple '\n",
    "print(word*3)"
   ]
  },
  {
   "cell_type": "code",
   "execution_count": 10,
   "id": "0749baf5-5995-4236-91b7-2700a4f7dcdf",
   "metadata": {},
   "outputs": [
    {
     "name": "stdout",
     "output_type": "stream",
     "text": [
      "t\n",
      "n\n",
      "pyt\n",
      "thon\n"
     ]
    }
   ],
   "source": [
    "#string slicing \n",
    "text = 'python'\n",
    "print(text[2])\n",
    "print(text[-1])\n",
    "print(text[0:3])\n",
    "print(text[2:])"
   ]
  },
  {
   "cell_type": "code",
   "execution_count": 11,
   "id": "ac900aaf-bcd5-4757-b68e-6f817ca53078",
   "metadata": {},
   "outputs": [
    {
     "name": "stdout",
     "output_type": "stream",
     "text": [
      " WELCOME TO PYTHON PROGRAM \n"
     ]
    }
   ],
   "source": [
    "# string methods\n",
    "msg = \" welcome to python program \"\n",
    "print(msg.upper())"
   ]
  },
  {
   "cell_type": "code",
   "execution_count": 13,
   "id": "9f80cd67-0fae-4c1c-a52f-406b2a271621",
   "metadata": {},
   "outputs": [
    {
     "name": "stdout",
     "output_type": "stream",
     "text": [
      " welcome to python program  \n"
     ]
    }
   ],
   "source": [
    "msg = \" WELCOME TO PYTHON PROGRAM  \"\n",
    "print(msg.lower())"
   ]
  },
  {
   "cell_type": "code",
   "execution_count": 16,
   "id": "ee72b216-580e-4236-88fd-9850b0917268",
   "metadata": {},
   "outputs": [
    {
     "name": "stdout",
     "output_type": "stream",
     "text": [
      "welcome to python program\n",
      " welcome to python program \n"
     ]
    }
   ],
   "source": [
    "#strip method (it will remove extra spaces)\n",
    "msg = \" welcome to python program \" \n",
    "print(msg.strip())\n",
    "print(msg)"
   ]
  },
  {
   "cell_type": "code",
   "execution_count": 15,
   "id": "19df635b-bc50-449d-81aa-941139f71e36",
   "metadata": {},
   "outputs": [
    {
     "name": "stdout",
     "output_type": "stream",
     "text": [
      " \n"
     ]
    }
   ],
   "source": [
    "msg = \" welcome to python program \"\n",
    "print(msg[0])"
   ]
  },
  {
   "cell_type": "code",
   "execution_count": 18,
   "id": "4b0bbccb-b33d-4870-9b20-d198768e5189",
   "metadata": {},
   "outputs": [
    {
     "name": "stdout",
     "output_type": "stream",
     "text": [
      "welcome to java program\n"
     ]
    }
   ],
   "source": [
    "#replace method\n",
    "msg = \"welcome to python program\"\n",
    "print(msg.replace('python','java'))"
   ]
  },
  {
   "cell_type": "code",
   "execution_count": 19,
   "id": "5e1e2d60-9130-4d6a-bc04-8747e5910ff5",
   "metadata": {},
   "outputs": [
    {
     "name": "stdout",
     "output_type": "stream",
     "text": [
      "['welcome', 'to', 'python', 'program']\n"
     ]
    }
   ],
   "source": [
    "# split method\n",
    "msg = \"welcome to python program\"\n",
    "print(msg.split())"
   ]
  },
  {
   "cell_type": "code",
   "execution_count": 21,
   "id": "6bed8490-31ef-4fc3-b6ee-e04406c12efc",
   "metadata": {},
   "outputs": [
    {
     "name": "stdout",
     "output_type": "stream",
     "text": [
      "True\n",
      "False\n"
     ]
    }
   ],
   "source": [
    "#checking substring\n",
    "msg = \"welcome to python program\"\n",
    "print('python' in msg)\n",
    "print('apple' in msg)"
   ]
  },
  {
   "cell_type": "code",
   "execution_count": 25,
   "id": "236aba08-267a-4816-aa70-ed73439c35d2",
   "metadata": {},
   "outputs": [
    {
     "name": "stdout",
     "output_type": "stream",
     "text": [
      "my name is rohan and I am 17 years old.\n",
      "my name is rohan and I am 17 years old.\n"
     ]
    }
   ],
   "source": [
    "#string formatting\n",
    "name = 'rohan'\n",
    "age = 17\n",
    "print(\"my name is {} and I am {} years old.\".format(name,age))\n",
    "print(f\"my name is {name} and I am {age} years old.\")"
   ]
  },
  {
   "cell_type": "code",
   "execution_count": 27,
   "id": "f7ae0e13-039e-4c38-8945-ea0af0c1571f",
   "metadata": {},
   "outputs": [
    {
     "name": "stdout",
     "output_type": "stream",
     "text": [
      "nahor\n"
     ]
    }
   ],
   "source": [
    "name = 'rohan'\n",
    "print(name[::-1])"
   ]
  },
  {
   "cell_type": "code",
   "execution_count": 28,
   "id": "da45e9b6-4a69-4ede-875a-8cd2921cb3d4",
   "metadata": {},
   "outputs": [
    {
     "name": "stdout",
     "output_type": "stream",
     "text": [
      "rohan\n",
      "nahor\n"
     ]
    }
   ],
   "source": [
    "name  = 'rohan'\n",
    "new_str = ''\n",
    "for i in name:  # i='r',i='o',i='h',i='a',i='n'\n",
    "    new_str = i+new_str # 'r'+'' ='r' ; 'o'+'r' = 'or' ; 'h'+'or' = 'hor' \n",
    "print(name)\n",
    "print(new_str)"
   ]
  },
  {
   "cell_type": "code",
   "execution_count": 29,
   "id": "1b41ac35-12ee-421f-9030-a2b22d26b6ef",
   "metadata": {},
   "outputs": [
    {
     "data": {
      "text/plain": [
       "'r'"
      ]
     },
     "execution_count": 29,
     "metadata": {},
     "output_type": "execute_result"
    }
   ],
   "source": [
    "'r'+''"
   ]
  },
  {
   "cell_type": "code",
   "execution_count": 33,
   "id": "36d5ce13-0c8b-4862-9ec4-bf4af8d31d1d",
   "metadata": {},
   "outputs": [
    {
     "name": "stdin",
     "output_type": "stream",
     "text": [
      "enter a input: madam\n"
     ]
    },
    {
     "name": "stdout",
     "output_type": "stream",
     "text": [
      "palindrome\n"
     ]
    }
   ],
   "source": [
    "text = input(\"enter a input:\")\n",
    "rev_str = ''\n",
    "for i in text :\n",
    "    rev_str = i+rev_str\n",
    "if text == rev_str:\n",
    "    print(\"palindrome\")\n",
    "else:\n",
    "    print(\"not plaindrome\")"
   ]
  },
  {
   "cell_type": "code",
   "execution_count": 1,
   "id": "0580906e-20dc-4a62-bf2f-cee124439b4e",
   "metadata": {},
   "outputs": [
    {
     "name": "stdout",
     "output_type": "stream",
     "text": [
      "5\n"
     ]
    }
   ],
   "source": [
    "# counting vowels in a string\n",
    "st = 'welcome to pyhton'\n",
    "vowels = 'aeiou'\n",
    "count = 0\n",
    "for char in st:\n",
    "    if char in vowels:\n",
    "        count += 1\n",
    "print(count)\n"
   ]
  },
  {
   "cell_type": "code",
   "execution_count": 5,
   "id": "c95fba0a-c053-42a0-aaf3-231616138352",
   "metadata": {},
   "outputs": [
    {
     "name": "stdout",
     "output_type": "stream",
     "text": [
      "{1, 2, 3, 4, 5}\n"
     ]
    }
   ],
   "source": [
    "#sets\n",
    "s1 = {1,2,3,4,5}\n",
    "l1 = [1,2,3,4,5]\n",
    "l2 = set(l1)\n",
    "print(l2)"
   ]
  },
  {
   "cell_type": "code",
   "execution_count": 6,
   "id": "9105fb08-4f83-4bf5-8f69-d76c302e1a01",
   "metadata": {},
   "outputs": [
    {
     "name": "stdout",
     "output_type": "stream",
     "text": [
      "{'rohan', 10.5, 15}\n"
     ]
    }
   ],
   "source": [
    "s2 = {15,'rohan',10.5,15}\n",
    "print(s2)"
   ]
  },
  {
   "cell_type": "code",
   "execution_count": 8,
   "id": "ee308848-f181-48dd-a988-d60a1ca87a03",
   "metadata": {},
   "outputs": [
    {
     "name": "stdout",
     "output_type": "stream",
     "text": [
      "{2, 4, 5, 6, 7}\n",
      "{2, 4, 5, 6, 7}\n"
     ]
    }
   ],
   "source": [
    "# set operations\n",
    "# union\n",
    "x = {2,5,4}\n",
    "y = {4,7,6}\n",
    "print(x|y)\n",
    "print(x.union(y))"
   ]
  },
  {
   "cell_type": "code",
   "execution_count": 10,
   "id": "90cb34e3-b137-4140-b18b-4ab39b3cbdbd",
   "metadata": {},
   "outputs": [
    {
     "name": "stdout",
     "output_type": "stream",
     "text": [
      "{3, 4}\n",
      "{3, 4}\n"
     ]
    }
   ],
   "source": [
    "#intersection\n",
    "x = {2,3,4}\n",
    "y = {3,4,5}\n",
    "print(x&y)\n",
    "print(x.intersection(y))"
   ]
  },
  {
   "cell_type": "code",
   "execution_count": 16,
   "id": "0521b7e9-5da1-45da-a508-5f88f70d9f30",
   "metadata": {},
   "outputs": [
    {
     "name": "stdout",
     "output_type": "stream",
     "text": [
      "{1, 2}\n",
      "{1, 2}\n",
      "{5, 6}\n"
     ]
    }
   ],
   "source": [
    "#difference \n",
    "a = {1,2}\n",
    "b = {5,6}\n",
    "print(a-b) \n",
    "print(a.difference(b))\n",
    "print(b-a)"
   ]
  },
  {
   "cell_type": "code",
   "execution_count": 18,
   "id": "47f1bbd9-d979-46b5-864e-15471b8a5547",
   "metadata": {},
   "outputs": [
    {
     "name": "stdout",
     "output_type": "stream",
     "text": [
      "{1, 2, 5, 6}\n",
      "{1, 2, 5, 6}\n"
     ]
    }
   ],
   "source": [
    "# symmetric difference\n",
    "a = {1,2,3,4}\n",
    "b = {3,4,5,6}\n",
    "print(a^b)\n",
    "print(a.symmetric_difference(b))\n"
   ]
  },
  {
   "cell_type": "code",
   "execution_count": 20,
   "id": "eb0260a9-7544-4142-a281-d791e00ffe1d",
   "metadata": {},
   "outputs": [
    {
     "name": "stdout",
     "output_type": "stream",
     "text": [
      "{1, 2, 3, 4}\n"
     ]
    }
   ],
   "source": [
    "# set methods\n",
    "#add\n",
    "s = {1,2,3}\n",
    "s.add(4)\n",
    "print(s)"
   ]
  },
  {
   "cell_type": "code",
   "execution_count": 21,
   "id": "2ccf72dc-103f-4eee-94cb-48dde6dfaf9c",
   "metadata": {},
   "outputs": [
    {
     "name": "stdout",
     "output_type": "stream",
     "text": [
      "{1, 2, 3, 4, 5, 6}\n"
     ]
    }
   ],
   "source": [
    "#update\n",
    "s = {1,2,3,4}\n",
    "s.update([5,6])\n",
    "print(s)"
   ]
  },
  {
   "cell_type": "code",
   "execution_count": 23,
   "id": "e70410b0-e1f0-473e-86b7-d5fc8e8fea61",
   "metadata": {},
   "outputs": [
    {
     "name": "stdout",
     "output_type": "stream",
     "text": [
      "{1, 2, 3, 4, 5}\n"
     ]
    }
   ],
   "source": [
    "#remove\n",
    "s = {1,2,3,4,5,6}\n",
    "s.remove(6)\n",
    "print(s)"
   ]
  },
  {
   "cell_type": "code",
   "execution_count": 26,
   "id": "71dc157b-c8be-4aa9-89f3-f48d251a9586",
   "metadata": {},
   "outputs": [
    {
     "name": "stdout",
     "output_type": "stream",
     "text": [
      "{1, 2, 3}\n"
     ]
    }
   ],
   "source": [
    "# discard\n",
    "s = {1,2,3,4}\n",
    "s.discard(4)\n",
    "print(s)"
   ]
  },
  {
   "cell_type": "code",
   "execution_count": 27,
   "id": "cde50c5e-e3d0-433a-9b2c-7a2e44cb308e",
   "metadata": {},
   "outputs": [
    {
     "name": "stdout",
     "output_type": "stream",
     "text": [
      "{2, 3, 4}\n"
     ]
    }
   ],
   "source": [
    "# pop\n",
    "s = {1,2,3,4}\n",
    "s.pop()\n",
    "print(s)"
   ]
  },
  {
   "cell_type": "code",
   "execution_count": 28,
   "id": "595c3fc6-48e7-4b63-a2d1-fdf14c4a6ebd",
   "metadata": {},
   "outputs": [
    {
     "name": "stdout",
     "output_type": "stream",
     "text": [
      "set()\n"
     ]
    }
   ],
   "source": [
    "# clear\n",
    "s = {1,2,3,4}\n",
    "s.clear()\n",
    "print(s)"
   ]
  },
  {
   "cell_type": "code",
   "execution_count": 30,
   "id": "8f96f929-ed97-4ee8-a0bc-f1d096ed1cee",
   "metadata": {},
   "outputs": [
    {
     "name": "stdout",
     "output_type": "stream",
     "text": [
      "True\n",
      "False\n"
     ]
    }
   ],
   "source": [
    "s = {'red','blue','orange'}\n",
    "print('red' in s)\n",
    "print('blue' not in s)"
   ]
  },
  {
   "cell_type": "code",
   "execution_count": 7,
   "id": "ffea2865-5075-453c-8117-fa39de16791e",
   "metadata": {},
   "outputs": [
    {
     "name": "stdout",
     "output_type": "stream",
     "text": [
      "[3, 6, 2, 7, 3, 2, 8, 0]\n",
      "{0, 2, 3, 6, 7, 8}\n"
     ]
    }
   ],
   "source": [
    "nums = [3,6,2,7,3,2,8,0]\n",
    "new_nums = set(nums)\n",
    "print(nums)\n",
    "print(new_nums)"
   ]
  },
  {
   "cell_type": "code",
   "execution_count": 32,
   "id": "35930d51-c545-4613-8180-2a582e50e5e1",
   "metadata": {},
   "outputs": [
    {
     "name": "stdout",
     "output_type": "stream",
     "text": [
      "False\n",
      "False\n"
     ]
    }
   ],
   "source": [
    "a = {1,2,3,4}\n",
    "b = {3,4,5,6}\n",
    "print(a.issubset(b))\n",
    "print(b.issuperset(a))"
   ]
  },
  {
   "cell_type": "code",
   "execution_count": 34,
   "id": "9b37967e-13bb-4cc9-8827-4b9b0406c77e",
   "metadata": {},
   "outputs": [
    {
     "name": "stdout",
     "output_type": "stream",
     "text": [
      "True\n",
      "True\n"
     ]
    }
   ],
   "source": [
    "a = {1,2,3}\n",
    "b = {1,2,3,4,5}\n",
    "print(a.issubset(b))\n",
    "print(b.issuperset(a))"
   ]
  },
  {
   "cell_type": "code",
   "execution_count": 36,
   "id": "a3308bd5-8f30-449f-a12a-526fa073c498",
   "metadata": {},
   "outputs": [
    {
     "name": "stdout",
     "output_type": "stream",
     "text": [
      "0\n",
      "8\n"
     ]
    }
   ],
   "source": [
    "nums = {3,6,2,7,3,2,8,0}\n",
    "print(min(nums))\n",
    "print(max(nums))"
   ]
  },
  {
   "cell_type": "code",
   "execution_count": 8,
   "id": "4c48e3c8-9988-4b25-8764-8da5784680f1",
   "metadata": {},
   "outputs": [
    {
     "name": "stdout",
     "output_type": "stream",
     "text": [
      "dict_keys(['name', 'section', 'age'])\n",
      "dict_values(['rohan', 'A', 18])\n",
      "dict_items([('name', 'rohan'), ('section', 'A'), ('age', 18)])\n"
     ]
    }
   ],
   "source": [
    "# dictionary methods\n",
    "#dic = {key:value}\n",
    "student = {'name':'rohan','section':'A','age':18}\n",
    "print(student.keys())\n",
    "print(student.values())\n",
    "print(student.items())"
   ]
  },
  {
   "cell_type": "code",
   "execution_count": 9,
   "id": "589a0d0e-72d6-4f98-95fe-df4487e72aa9",
   "metadata": {},
   "outputs": [
    {
     "name": "stdout",
     "output_type": "stream",
     "text": [
      "rohan\n"
     ]
    }
   ],
   "source": [
    "student = {'name':'rohan','section':'A','age':18}\n",
    "print(student['name'])"
   ]
  },
  {
   "cell_type": "code",
   "execution_count": 12,
   "id": "21cea498-1fc0-4a90-b12e-a0815afc2709",
   "metadata": {},
   "outputs": [
    {
     "name": "stdout",
     "output_type": "stream",
     "text": [
      "100\n",
      "100\n"
     ]
    }
   ],
   "source": [
    "mixed_dict = {1:100,'name':'rohan',2.3:6.3,5:'apple'}\n",
    "type(mixed_dict)\n",
    "print(mixed_dict[1])\n",
    "print(mixed_dict.get(1))"
   ]
  },
  {
   "cell_type": "code",
   "execution_count": 13,
   "id": "ca063b73-d34a-4c55-8e38-531233a7e8f3",
   "metadata": {},
   "outputs": [
    {
     "name": "stdout",
     "output_type": "stream",
     "text": [
      "{1: 100, 'name': 'rohan', 2.3: 6.3, 5: 'apple', 8: 'hundred'}\n"
     ]
    }
   ],
   "source": [
    "# updating and adding values in dictinary\n",
    "mixed_dict[8] = 'hundred'\n",
    "print(mixed_dict)"
   ]
  },
  {
   "cell_type": "code",
   "execution_count": 14,
   "id": "4def07ad-f38a-408a-ae9b-7e3560534369",
   "metadata": {},
   "outputs": [
    {
     "name": "stdout",
     "output_type": "stream",
     "text": [
      "{1: 100, 'name': 'rohan', 2.3: 6.3, 5: 'mango', 8: 'hundred'}\n"
     ]
    }
   ],
   "source": [
    "mixed_dict[5] = 'mango'\n",
    "print(mixed_dict)"
   ]
  },
  {
   "cell_type": "code",
   "execution_count": 15,
   "id": "93000262-9208-4f76-81b0-14f6c6f150d9",
   "metadata": {},
   "outputs": [
    {
     "data": {
      "text/plain": [
       "100"
      ]
     },
     "execution_count": 15,
     "metadata": {},
     "output_type": "execute_result"
    }
   ],
   "source": [
    "#removing values from dict\n",
    "mixed_dict = {1:100,'name':'rohan',2.3:6.3,5:'apple'}\n",
    "mixed_dict.pop(1)\n"
   ]
  },
  {
   "cell_type": "code",
   "execution_count": 16,
   "id": "1f7eec4d-d66a-4caf-a8b0-0894f3daba9b",
   "metadata": {},
   "outputs": [
    {
     "name": "stdout",
     "output_type": "stream",
     "text": [
      "{'name': 'rohan', 2.3: 6.3, 5: 'apple'}\n"
     ]
    }
   ],
   "source": [
    "print(mixed_dict)"
   ]
  },
  {
   "cell_type": "code",
   "execution_count": 18,
   "id": "8cf53834-9083-47b0-bc49-5eca7bed8f4c",
   "metadata": {},
   "outputs": [
    {
     "name": "stdout",
     "output_type": "stream",
     "text": [
      "{1: 100, 2.3: 6.3, 5: 'apple'}\n"
     ]
    }
   ],
   "source": [
    "mixed_dict = {1:100,'name':'rohan',2.3:6.3,5:'apple'}\n",
    "del mixed_dict['name']\n",
    "print(mixed_dict)"
   ]
  },
  {
   "cell_type": "code",
   "execution_count": 19,
   "id": "2b1da68f-3e01-4833-9ebb-0f8f487411cc",
   "metadata": {},
   "outputs": [
    {
     "name": "stdout",
     "output_type": "stream",
     "text": [
      "{}\n"
     ]
    }
   ],
   "source": [
    "mixed_dict = {1:100,'name':'rohan',2.3:6.3,5:'apple'}\n",
    "mixed_dict.clear()\n",
    "print(mixed_dict)"
   ]
  },
  {
   "cell_type": "code",
   "execution_count": 25,
   "id": "2c1c55ae-de06-42a3-bea8-065184adb027",
   "metadata": {},
   "outputs": [
    {
     "name": "stdout",
     "output_type": "stream",
     "text": [
      "1\n",
      "name\n",
      "2.3\n",
      "5\n"
     ]
    }
   ],
   "source": [
    "mixed_dict = {1:100,'name':'rohan',2.3:6.3,5:'apple'}\n",
    "for key in mixed_dict.keys():\n",
    "    print(key)"
   ]
  },
  {
   "cell_type": "code",
   "execution_count": 24,
   "id": "c99af89b-a3ab-4034-b48a-966e4f1d8f7f",
   "metadata": {},
   "outputs": [
    {
     "name": "stdout",
     "output_type": "stream",
     "text": [
      "100\n",
      "rohan\n",
      "6.3\n",
      "apple\n"
     ]
    }
   ],
   "source": [
    "mixed_dict = {1:100,'name':'rohan',2.3:6.3,5:'apple'}\n",
    "for value in mixed_dict.values():\n",
    "    print(value)"
   ]
  },
  {
   "cell_type": "code",
   "execution_count": 29,
   "id": "66abf763-f4fd-42e2-bc04-d67d63e64b95",
   "metadata": {},
   "outputs": [
    {
     "name": "stdout",
     "output_type": "stream",
     "text": [
      "1 : 100\n",
      "name : rohan\n",
      "2.3 : 6.3\n",
      "5 : apple\n"
     ]
    }
   ],
   "source": [
    "mixed_dict = {1:100,'name':'rohan',2.3:6.3,5:'apple'}\n",
    "for key,value in mixed_dict.items():\n",
    "    print(key,\":\",value)"
   ]
  },
  {
   "cell_type": "code",
   "execution_count": 33,
   "id": "8a240383-3cb7-432a-bd11-ea8ff4027a06",
   "metadata": {},
   "outputs": [
    {
     "name": "stdout",
     "output_type": "stream",
     "text": [
      "rohan\n"
     ]
    }
   ],
   "source": [
    "# nested dictionary\n",
    "d = {'d1':{1:100,'name':'rohan'},'d2':{'name':'virat','age':13}}\n",
    "print(d['d1']['name'])\n"
   ]
  },
  {
   "cell_type": "code",
   "execution_count": 34,
   "id": "af59705d-7c83-44b9-8a43-e64aa9b9254f",
   "metadata": {},
   "outputs": [
    {
     "name": "stdout",
     "output_type": "stream",
     "text": [
      "dict_keys(['d1', 'd2'])\n"
     ]
    }
   ],
   "source": [
    "print(d.keys())"
   ]
  },
  {
   "cell_type": "code",
   "execution_count": 35,
   "id": "1efd3053-6586-4dc4-8fec-200da9921a07",
   "metadata": {},
   "outputs": [
    {
     "name": "stdout",
     "output_type": "stream",
     "text": [
      "dict_values([{1: 100, 'name': 'rohan'}, {'name': 'virat', 'age': 13}])\n"
     ]
    }
   ],
   "source": [
    "print(d.values())"
   ]
  },
  {
   "cell_type": "code",
   "execution_count": 36,
   "id": "d9620f80-28a1-4920-b5fa-0bbc2d50cb01",
   "metadata": {},
   "outputs": [
    {
     "name": "stdout",
     "output_type": "stream",
     "text": [
      "dict_items([('d1', {1: 100, 'name': 'rohan'}), ('d2', {'name': 'virat', 'age': 13})])\n"
     ]
    }
   ],
   "source": [
    "print(d.items())"
   ]
  },
  {
   "cell_type": "code",
   "execution_count": 1,
   "id": "3efcac12-eb2c-4f52-9daa-64b6b477f3e4",
   "metadata": {},
   "outputs": [
    {
     "name": "stdout",
     "output_type": "stream",
     "text": [
      "{1: 1, 2: 4, 3: 9, 4: 16, 5: 25}\n"
     ]
    }
   ],
   "source": [
    "# dictionary comprehension\n",
    "squares = {x:x*x for x in range(1,6)}\n",
    "print(squares)"
   ]
  },
  {
   "cell_type": "code",
   "execution_count": 7,
   "id": "8d7153ec-02ed-4b6f-99e3-d73cafd86893",
   "metadata": {},
   "outputs": [
    {
     "name": "stdout",
     "output_type": "stream",
     "text": [
      "{1: 1, 2: 8, 3: 27, 4: 64, 5: 125}\n"
     ]
    }
   ],
   "source": [
    "cubes = {x:x**3 for x in range(1,6)}\n",
    "print(cubes)"
   ]
  },
  {
   "cell_type": "code",
   "execution_count": 8,
   "id": "c7327d42-bc59-4cb9-9163-9cc10b2b596b",
   "metadata": {},
   "outputs": [
    {
     "data": {
      "text/plain": [
       "dict"
      ]
     },
     "execution_count": 8,
     "metadata": {},
     "output_type": "execute_result"
    }
   ],
   "source": [
    "mixed_dict = {(1,2,3):100,'name':['rohan','virat'],2.3:6.3}\n",
    "type(mixed_dict)"
   ]
  },
  {
   "cell_type": "code",
   "execution_count": 9,
   "id": "41ba5352-2a9a-4e51-9bd3-93ca26bd4f55",
   "metadata": {},
   "outputs": [
    {
     "name": "stdout",
     "output_type": "stream",
     "text": [
      "6.3\n"
     ]
    }
   ],
   "source": [
    "print(mixed_dict[2.3])"
   ]
  },
  {
   "cell_type": "code",
   "execution_count": 11,
   "id": "6ce9b52a-b690-4eb8-b830-4302ec0fd267",
   "metadata": {},
   "outputs": [
    {
     "name": "stdout",
     "output_type": "stream",
     "text": [
      "100\n"
     ]
    }
   ],
   "source": [
    "print(mixed_dict[(1,2,3)])"
   ]
  },
  {
   "cell_type": "code",
   "execution_count": 14,
   "id": "aa4dd422-ab35-4838-ae48-9b78502583c4",
   "metadata": {},
   "outputs": [
    {
     "name": "stdout",
     "output_type": "stream",
     "text": [
      "virat\n"
     ]
    }
   ],
   "source": [
    "print(mixed_dict['name'][1])"
   ]
  },
  {
   "cell_type": "code",
   "execution_count": 17,
   "id": "85666202-0b9a-4cdd-a297-56a42e74cf6d",
   "metadata": {},
   "outputs": [
    {
     "name": "stdout",
     "output_type": "stream",
     "text": [
      "welcome\n",
      "to\n",
      "python\n",
      "program\n",
      "python\n",
      "program\n",
      "{'welcome': 1, 'to': 1, 'python': 2, 'program': 2}\n"
     ]
    }
   ],
   "source": [
    "string = 'welcome to python program python program'\n",
    "dic = {}\n",
    "for i in string.split():\n",
    "    print(i)\n",
    "    dic[i] = dic.get(i,0)+1    # dic[welcome] = dic.get(welcome,0)+1\n",
    "print(dic)"
   ]
  },
  {
   "cell_type": "code",
   "execution_count": 18,
   "id": "e9d49267-921e-4b96-a7d1-3b972549e16a",
   "metadata": {},
   "outputs": [
    {
     "name": "stdout",
     "output_type": "stream",
     "text": [
      "{1: 100, 2: 200, 11: 111, 12: 1212}\n"
     ]
    }
   ],
   "source": [
    "# merge\n",
    "dic1 = {1:100,2:200}\n",
    "dic2 = {11:111 , 12:1212}\n",
    "merge = {**dic1,**dic2}\n",
    "print(merge)"
   ]
  },
  {
   "cell_type": "code",
   "execution_count": 20,
   "id": "42814c42-dc0e-4d4b-9c0a-980aab620967",
   "metadata": {},
   "outputs": [
    {
     "name": "stdout",
     "output_type": "stream",
     "text": [
      "3\n",
      "4\n"
     ]
    }
   ],
   "source": [
    "d = {1:100,2:299,5:433,3:999,4:50}\n",
    "maximum = max(d,key = d.get)\n",
    "minimum = min(d,key = d.get)\n",
    "print(maximum)\n",
    "print(minimum)"
   ]
  },
  {
   "cell_type": "code",
   "execution_count": 22,
   "id": "c77fe0cc-c3b5-4ac4-bb7d-5619f873bc90",
   "metadata": {},
   "outputs": [
    {
     "name": "stdout",
     "output_type": "stream",
     "text": [
      "{1: 100, 2: 200, 3: 300}\n"
     ]
    }
   ],
   "source": [
    "lst1 = [1,2,3]\n",
    "lst2 = [100,200,300]\n",
    "values = dict(zip(lst1,lst2))\n",
    "print(values)"
   ]
  },
  {
   "cell_type": "code",
   "execution_count": 26,
   "id": "f0577f35-753b-4471-a445-1c62c3b307bd",
   "metadata": {},
   "outputs": [
    {
     "name": "stdout",
     "output_type": "stream",
     "text": [
      "{'r': 1, 'o': 1, 'h': 1, 'a': 1, 'n': 1}\n"
     ]
    }
   ],
   "source": [
    "string = 'rohan'\n",
    "dic = {}\n",
    "for i in string:\n",
    "    dic[i] = dic.get(i,0)+1\n",
    "print(dic)"
   ]
  },
  {
   "cell_type": "code",
   "execution_count": null,
   "id": "baeb27f6-0d22-4e0a-bd9f-984b2a994d14",
   "metadata": {},
   "outputs": [],
   "source": []
  }
 ],
 "metadata": {
  "kernelspec": {
   "display_name": "Python 3 (ipykernel)",
   "language": "python",
   "name": "python3"
  },
  "language_info": {
   "codemirror_mode": {
    "name": "ipython",
    "version": 3
   },
   "file_extension": ".py",
   "mimetype": "text/x-python",
   "name": "python",
   "nbconvert_exporter": "python",
   "pygments_lexer": "ipython3",
   "version": "3.13.5"
  }
 },
 "nbformat": 4,
 "nbformat_minor": 5
}
