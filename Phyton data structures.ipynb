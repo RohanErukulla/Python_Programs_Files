{
 "cells": [
  {
   "cell_type": "code",
   "execution_count": 2,
   "id": "cd253656-7253-46ba-99b7-ea631039ab06",
   "metadata": {},
   "outputs": [
    {
     "data": {
      "text/plain": [
       "10"
      ]
     },
     "execution_count": 2,
     "metadata": {},
     "output_type": "execute_result"
    }
   ],
   "source": [
    "#Data Structures \n",
    "## Lists\n",
    "lst = [1,2,3,4,5,6,7,8,9,10]\n",
    "lst[9]"
   ]
  },
  {
   "cell_type": "code",
   "execution_count": 3,
   "id": "04ba64ea-5a1e-4036-9be8-8dbd6bdf3924",
   "metadata": {},
   "outputs": [
    {
     "data": {
      "text/plain": [
       "10"
      ]
     },
     "execution_count": 3,
     "metadata": {},
     "output_type": "execute_result"
    }
   ],
   "source": [
    "lst = [1,2,3,4,5,6,7,8,9,10]\n",
    "lst[-1]"
   ]
  },
  {
   "cell_type": "code",
   "execution_count": 4,
   "id": "523a1e3b-f6dd-45c9-98a7-a7b4ca33f6fb",
   "metadata": {},
   "outputs": [
    {
     "data": {
      "text/plain": [
       "8"
      ]
     },
     "execution_count": 4,
     "metadata": {},
     "output_type": "execute_result"
    }
   ],
   "source": [
    "lst = [1,2,3,4,5,6,7,8,9,10]\n",
    "lst[-3]"
   ]
  },
  {
   "cell_type": "code",
   "execution_count": 8,
   "id": "59f470e5-b9d1-4f76-b089-cc49bc995abc",
   "metadata": {},
   "outputs": [
    {
     "data": {
      "text/plain": [
       "[1, 2, 3, 4, 5]"
      ]
     },
     "execution_count": 8,
     "metadata": {},
     "output_type": "execute_result"
    }
   ],
   "source": [
    "#slicing(using \":\") \n",
    "#lst [start:end:step:]\n",
    "lst = [1,2,3,4,5,6,7,8,9,10]\n",
    "lst[0:5]"
   ]
  },
  {
   "cell_type": "code",
   "execution_count": 10,
   "id": "065c6b15-7af3-4435-8aef-66be9961f348",
   "metadata": {},
   "outputs": [
    {
     "data": {
      "text/plain": [
       "[4, 5, 6, 7, 8]"
      ]
     },
     "execution_count": 10,
     "metadata": {},
     "output_type": "execute_result"
    }
   ],
   "source": [
    "lst = [1,2,3,4,5,6,7,8,9,10]\n",
    "lst[3:8]"
   ]
  },
  {
   "cell_type": "code",
   "execution_count": 14,
   "id": "c0a2d890-73d1-46e5-8690-e8a0f9e80f6a",
   "metadata": {},
   "outputs": [
    {
     "data": {
      "text/plain": [
       "[7, 8, 9, 10]"
      ]
     },
     "execution_count": 14,
     "metadata": {},
     "output_type": "execute_result"
    }
   ],
   "source": [
    "lst = [1,2,3,4,5,6,7,8,9,10]\n",
    "lst[-4:]"
   ]
  },
  {
   "cell_type": "code",
   "execution_count": 15,
   "id": "3c6ff4de-e498-4848-ac61-3b9d5ca53fff",
   "metadata": {},
   "outputs": [
    {
     "data": {
      "text/plain": [
       "[1, 2, 3, 4, 5, 6, 7, 8, 9, 10]"
      ]
     },
     "execution_count": 15,
     "metadata": {},
     "output_type": "execute_result"
    }
   ],
   "source": [
    "lst = [1,2,3,4,5,6,7,8,9,10]\n",
    "lst[0:]"
   ]
  },
  {
   "cell_type": "code",
   "execution_count": 28,
   "id": "1814eb0e-fe9b-492a-8467-440696f5a6ad",
   "metadata": {},
   "outputs": [
    {
     "data": {
      "text/plain": [
       "[10, 9, 8, 7, 6, 5, 4, 3, 2, 1]"
      ]
     },
     "execution_count": 28,
     "metadata": {},
     "output_type": "execute_result"
    }
   ],
   "source": [
    "lst = [1,2,3,4,5,6,7,8,9,10]\n",
    "lst[10::-1]"
   ]
  },
  {
   "cell_type": "code",
   "execution_count": 25,
   "id": "d315f742-dc5b-42aa-87c6-1455f66715aa",
   "metadata": {},
   "outputs": [
    {
     "data": {
      "text/plain": [
       "[1, 3, 5, 7, 9]"
      ]
     },
     "execution_count": 25,
     "metadata": {},
     "output_type": "execute_result"
    }
   ],
   "source": [
    "lst = [1,2,3,4,5,6,7,8,9,10]\n",
    "lst[0:10:2]"
   ]
  },
  {
   "cell_type": "code",
   "execution_count": 33,
   "id": "7771f073-018e-464f-b61d-6a0940a6fc15",
   "metadata": {},
   "outputs": [
    {
     "data": {
      "text/plain": [
       "[10, 9, 8, 7]"
      ]
     },
     "execution_count": 33,
     "metadata": {},
     "output_type": "execute_result"
    }
   ],
   "source": [
    "lst = [1,2,3,4,5,6,7,8,9,10]\n",
    "lst[9:5:-1]"
   ]
  },
  {
   "cell_type": "code",
   "execution_count": 40,
   "id": "87e1fa52-dd49-471a-9598-e9500326f2b6",
   "metadata": {},
   "outputs": [
    {
     "data": {
      "text/plain": [
       "[2, 3, 4, 5]"
      ]
     },
     "execution_count": 40,
     "metadata": {},
     "output_type": "execute_result"
    }
   ],
   "source": [
    "lst = [1,2,3,4,5,6,7,8,9,10]\n",
    "lst[-9:-5]"
   ]
  },
  {
   "cell_type": "code",
   "execution_count": 42,
   "id": "468e0b29-da89-4677-931d-bf51c15a9c97",
   "metadata": {},
   "outputs": [
    {
     "data": {
      "text/plain": [
       "[1, 6]"
      ]
     },
     "execution_count": 42,
     "metadata": {},
     "output_type": "execute_result"
    }
   ],
   "source": [
    "lst = [1,2,3,4,5,6,7,8,9,10]\n",
    "lst[::5]"
   ]
  },
  {
   "cell_type": "code",
   "execution_count": 44,
   "id": "7362b332-07c5-4969-88b0-dd356ddb5804",
   "metadata": {},
   "outputs": [
    {
     "data": {
      "text/plain": [
       "[1, 2, 3, 4, 5]"
      ]
     },
     "execution_count": 44,
     "metadata": {},
     "output_type": "execute_result"
    }
   ],
   "source": [
    "lst = [1,2,3,4,5,6,7,8,9,10]\n",
    "lst[:-5]"
   ]
  },
  {
   "cell_type": "code",
   "execution_count": 45,
   "id": "b5c6fb7f-6c86-4729-9155-c5b335c3490b",
   "metadata": {},
   "outputs": [
    {
     "data": {
      "text/plain": [
       "[1, 2, 3, 4, 5, 6, 7, 8, 9, 10]"
      ]
     },
     "execution_count": 45,
     "metadata": {},
     "output_type": "execute_result"
    }
   ],
   "source": [
    "lst"
   ]
  },
  {
   "cell_type": "code",
   "execution_count": 50,
   "id": "1bfb9247-fba0-4db8-a420-647ee3641966",
   "metadata": {},
   "outputs": [
    {
     "data": {
      "text/plain": [
       "['banana', 'apple', 'watermelon', 'mango', 'grapes', 'orange']"
      ]
     },
     "execution_count": 50,
     "metadata": {},
     "output_type": "execute_result"
    }
   ],
   "source": [
    "fruits = ['banana','apple','watermelon','mango','grapes','orange']\n",
    "fruits"
   ]
  },
  {
   "cell_type": "code",
   "execution_count": 51,
   "id": "438e80f3-684a-462a-b886-03574d3d1474",
   "metadata": {},
   "outputs": [
    {
     "data": {
      "text/plain": [
       "list"
      ]
     },
     "execution_count": 51,
     "metadata": {},
     "output_type": "execute_result"
    }
   ],
   "source": [
    "type(fruits)"
   ]
  },
  {
   "cell_type": "code",
   "execution_count": 53,
   "id": "89091a77-d2a1-49ff-b2dc-2bc91b12fbbd",
   "metadata": {},
   "outputs": [
    {
     "data": {
      "text/plain": [
       "['banana', 'apple', 'watermelon']"
      ]
     },
     "execution_count": 53,
     "metadata": {},
     "output_type": "execute_result"
    }
   ],
   "source": [
    "fruits[0:3]"
   ]
  },
  {
   "cell_type": "code",
   "execution_count": 56,
   "id": "08cd82b2-6ba4-44d1-8ac9-0f9dc8ee8193",
   "metadata": {},
   "outputs": [
    {
     "data": {
      "text/plain": [
       "'orange'"
      ]
     },
     "execution_count": 56,
     "metadata": {},
     "output_type": "execute_result"
    }
   ],
   "source": [
    "fruits[-1]\n"
   ]
  },
  {
   "cell_type": "code",
   "execution_count": 2,
   "id": "533b1f0b-d001-44fd-be96-b51297cd7f3f",
   "metadata": {},
   "outputs": [
    {
     "data": {
      "text/plain": [
       "['banana', 'apple', 'watermelon', [0, 1], 'mango', 'grapes', 'orange']"
      ]
     },
     "execution_count": 2,
     "metadata": {},
     "output_type": "execute_result"
    }
   ],
   "source": [
    "fruits = ['banana','apple','watermelon',[0,1],'mango','grapes','orange']\n",
    "fruits"
   ]
  },
  {
   "cell_type": "code",
   "execution_count": 3,
   "id": "0869dc4c-2b00-4de6-b5c6-2f12380667fc",
   "metadata": {},
   "outputs": [
    {
     "data": {
      "text/plain": [
       "[0, 1]"
      ]
     },
     "execution_count": 3,
     "metadata": {},
     "output_type": "execute_result"
    }
   ],
   "source": [
    "fruits[3]"
   ]
  },
  {
   "cell_type": "code",
   "execution_count": 4,
   "id": "41a9711d-f2a2-4b2e-afac-c38d37f611c9",
   "metadata": {},
   "outputs": [
    {
     "data": {
      "text/plain": [
       "'grapes'"
      ]
     },
     "execution_count": 4,
     "metadata": {},
     "output_type": "execute_result"
    }
   ],
   "source": [
    "fruits[5]"
   ]
  },
  {
   "cell_type": "code",
   "execution_count": 3,
   "id": "cdf2dd7b-76e7-4bad-a74c-6fa1b3907dc9",
   "metadata": {},
   "outputs": [
    {
     "data": {
      "text/plain": [
       "['banana', 'apple', 'watermelon', 'mango', 'grapes', 'orange', 'jackfruit']"
      ]
     },
     "execution_count": 3,
     "metadata": {},
     "output_type": "execute_result"
    }
   ],
   "source": [
    "#methods of list \n",
    "# Append()\n",
    "fruits = ['banana','apple','watermelon','mango','grapes','orange']\n",
    "fruits.append('jackfruit')\n",
    "fruits"
   ]
  },
  {
   "cell_type": "code",
   "execution_count": 14,
   "id": "878dc7a1-c697-4bf8-9b8f-38d4833dbc50",
   "metadata": {},
   "outputs": [
    {
     "name": "stdout",
     "output_type": "stream",
     "text": [
      "['banana', 'apple', 'watermelon', 'mango', 'grapes', 'orange', 'guava', 'dragon']\n"
     ]
    }
   ],
   "source": [
    "#extend()\n",
    "fruits = ['banana','apple','watermelon','mango','grapes','orange']\n",
    "fruits.extend(['guava','dragon'])\n",
    "print(fruits)"
   ]
  },
  {
   "cell_type": "code",
   "execution_count": 15,
   "id": "7367b06d-5bfc-4c19-a021-0c2a9553288f",
   "metadata": {},
   "outputs": [
    {
     "name": "stdout",
     "output_type": "stream",
     "text": [
      "[1, 2, 3, 4, 5, 6, 7, 8, 9, 10, 11]\n"
     ]
    }
   ],
   "source": [
    "lst = [1,2,3,4,5,6,7,8,9,10]\n",
    "lst.append(11)\n",
    "print(lst)"
   ]
  },
  {
   "cell_type": "code",
   "execution_count": 16,
   "id": "fe6372cf-acc2-4f3e-8d4d-7b8dfc927574",
   "metadata": {},
   "outputs": [
    {
     "name": "stdout",
     "output_type": "stream",
     "text": [
      "[1, 2, 3, 4, 5, 6, 7, 8, 9, 10, 11, 12, 13]\n"
     ]
    }
   ],
   "source": [
    "lst = [1,2,3,4,5,6,7,8,9,10]\n",
    "lst.extend([11,12,13])\n",
    "print(lst)"
   ]
  },
  {
   "cell_type": "code",
   "execution_count": 17,
   "id": "807c057d-9d67-4568-904a-0d19e070ac4c",
   "metadata": {},
   "outputs": [
    {
     "name": "stdout",
     "output_type": "stream",
     "text": [
      "[1, 2, 3, 4, 100, 5, 6, 7, 8, 9, 10]\n"
     ]
    }
   ],
   "source": [
    "#insert\n",
    "lst = [1,2,3,4,5,6,7,8,9,10]\n",
    "lst.insert(4,100)\n",
    "print(lst)"
   ]
  },
  {
   "cell_type": "code",
   "execution_count": 23,
   "id": "1ca0024e-8ac4-4044-a62f-8a6b7b69f512",
   "metadata": {},
   "outputs": [
    {
     "name": "stdout",
     "output_type": "stream",
     "text": [
      "['banana', 'apple', 'watermelon', 'mango', 'apple', 'grapes', 'orange']\n"
     ]
    }
   ],
   "source": [
    "fruits = ['banana','apple','watermelon','mango','grapes','orange']\n",
    "fruits.insert(4,'apple') # apple is added on the 4th index position\n",
    "print(fruits)"
   ]
  },
  {
   "cell_type": "code",
   "execution_count": 22,
   "id": "43383d8f-c572-43b5-bf0c-e9141ee8a2f6",
   "metadata": {},
   "outputs": [
    {
     "name": "stdout",
     "output_type": "stream",
     "text": [
      "[2, 7, 5, 3, 11, 8, 1, 7, 4, 0]\n"
     ]
    }
   ],
   "source": [
    "lst = [2,7,5,3,8,1,7,4,0]\n",
    "lst.insert(4,11)\n",
    "print(lst)"
   ]
  },
  {
   "cell_type": "code",
   "execution_count": 24,
   "id": "d2b6f487-e49f-4024-b6c8-a22d1dc38404",
   "metadata": {},
   "outputs": [
    {
     "name": "stdout",
     "output_type": "stream",
     "text": [
      "['banana', 'apple', 'mango', 'grapes', 'orange']\n"
     ]
    }
   ],
   "source": [
    "#remove \n",
    "fruits = ['banana','apple','watermelon','mango','grapes','orange']\n",
    "fruits.remove('watermelon')\n",
    "print(fruits)"
   ]
  },
  {
   "cell_type": "code",
   "execution_count": 26,
   "id": "bc342a36-6364-4157-9bb6-c019cb8f4f43",
   "metadata": {},
   "outputs": [
    {
     "name": "stdout",
     "output_type": "stream",
     "text": [
      "['banana', 'watermelon', 'mango', 'apple', 'grapes', 'orange']\n"
     ]
    }
   ],
   "source": [
    "fruits = ['banana', 'apple', 'watermelon', 'mango', 'apple', 'grapes', 'orange']\n",
    "fruits.remove('apple')\n",
    "print(fruits)"
   ]
  },
  {
   "cell_type": "code",
   "execution_count": 27,
   "id": "ac9e2c8a-3b1b-4db1-ac8d-3ab061077b4e",
   "metadata": {},
   "outputs": [
    {
     "name": "stdout",
     "output_type": "stream",
     "text": [
      "['banana', 'apple', 'mango', 'orange']\n"
     ]
    }
   ],
   "source": [
    "#pop\n",
    "fruits = ['banana', 'apple', 'mango', 'grapes', 'orange']\n",
    "fruits.pop(3)\n",
    "print(fruits)\n"
   ]
  },
  {
   "cell_type": "code",
   "execution_count": 28,
   "id": "a40ac6bf-04d1-4130-83af-7833371ccc67",
   "metadata": {},
   "outputs": [
    {
     "name": "stdout",
     "output_type": "stream",
     "text": [
      "[]\n"
     ]
    }
   ],
   "source": [
    "#clear\n",
    "fruits = ['banana', 'apple', 'mango', 'grapes', 'orange']\n",
    "fruits.clear()\n",
    "print(fruits)"
   ]
  },
  {
   "cell_type": "code",
   "execution_count": 29,
   "id": "4a23f653-776f-4e0a-9d8a-8382ce17ad65",
   "metadata": {},
   "outputs": [
    {
     "data": {
      "text/plain": [
       "[]"
      ]
     },
     "execution_count": 29,
     "metadata": {},
     "output_type": "execute_result"
    }
   ],
   "source": [
    "fruits"
   ]
  },
  {
   "cell_type": "code",
   "execution_count": 32,
   "id": "4fc47bf6-6e94-43de-9699-97354c1cd089",
   "metadata": {},
   "outputs": [
    {
     "data": {
      "text/plain": [
       "2"
      ]
     },
     "execution_count": 32,
     "metadata": {},
     "output_type": "execute_result"
    }
   ],
   "source": [
    "#index\n",
    "names = [9,'apple',5.2,'banana',2325,22.22]\n",
    "names.index(5.2)"
   ]
  },
  {
   "cell_type": "code",
   "execution_count": 33,
   "id": "7ac768e8-4a41-4775-9599-e613acb3f065",
   "metadata": {},
   "outputs": [
    {
     "name": "stdout",
     "output_type": "stream",
     "text": [
      "5\n"
     ]
    }
   ],
   "source": [
    "#count\n",
    "nums = [3,6,2,7,3,2,8,0,3,3,3]\n",
    "print(nums.count(3))"
   ]
  },
  {
   "cell_type": "code",
   "execution_count": 35,
   "id": "a5f73950-34ff-44d0-999e-3d89ba0b4d32",
   "metadata": {},
   "outputs": [
    {
     "name": "stdout",
     "output_type": "stream",
     "text": [
      "[0, 2, 2, 3, 3, 3, 3, 3, 6, 7, 8]\n"
     ]
    }
   ],
   "source": [
    "#sort\n",
    "nums = [3,6,2,7,3,2,8,0,3,3,3]\n",
    "nums.sort()\n",
    "print(nums)"
   ]
  },
  {
   "cell_type": "code",
   "execution_count": 37,
   "id": "0725431f-795e-48ed-a77c-1a02b4653444",
   "metadata": {},
   "outputs": [
    {
     "name": "stdout",
     "output_type": "stream",
     "text": [
      "[0, 8, 2, 3, 7, 2, 6, 3]\n"
     ]
    }
   ],
   "source": [
    "#reverse\n",
    "nums = [3,6,2,7,3,2,8,0]\n",
    "nums.reverse()\n",
    "print(nums)"
   ]
  },
  {
   "cell_type": "code",
   "execution_count": 40,
   "id": "bc45accb-6f46-42ae-8dcf-eb0a42e1a65e",
   "metadata": {},
   "outputs": [
    {
     "name": "stdout",
     "output_type": "stream",
     "text": [
      "[3, 6, 2, 7, 3, 2, 8, 0]\n"
     ]
    }
   ],
   "source": [
    "#copy\n",
    "nums = [3,6,2,7,3,2,8,0]\n",
    "lst = nums.copy()\n",
    "print(lst)"
   ]
  },
  {
   "cell_type": "code",
   "execution_count": 41,
   "id": "25f3d5c3-1a9c-44f0-8e9e-1de191c71e30",
   "metadata": {},
   "outputs": [
    {
     "name": "stdout",
     "output_type": "stream",
     "text": [
      "[3, 6, 2, 7, 3, 2, 8, 0]\n"
     ]
    }
   ],
   "source": [
    "nums = [3,6,2,7,3,2,8,0]\n",
    "lst = [1,2,3,4]\n",
    "lst = nums.copy()\n",
    "print(lst)"
   ]
  },
  {
   "cell_type": "code",
   "execution_count": 42,
   "id": "c788363a-0876-46f3-baa9-b2a4f34d9e0d",
   "metadata": {},
   "outputs": [
    {
     "name": "stdout",
     "output_type": "stream",
     "text": [
      "8\n"
     ]
    }
   ],
   "source": [
    "#len\n",
    "nums = [3,6,2,7,3,2,8,0]\n",
    "print(len(nums))\n"
   ]
  },
  {
   "cell_type": "code",
   "execution_count": 44,
   "id": "52ddc411-d7da-4598-ba42-2474dd1adda3",
   "metadata": {},
   "outputs": [
    {
     "name": "stdout",
     "output_type": "stream",
     "text": [
      "[3, 6, 2, 7, 8, 0]\n"
     ]
    }
   ],
   "source": [
    "#example program\n",
    "nums = [3,6,2,7,3,2,8,0]\n",
    "new_lst = []\n",
    "for i in nums:\n",
    "    if i not in new_lst:    # if 3 not in new_lst it will append into the new_lst\n",
    "        new_lst.append(i)\n",
    "print(new_lst)        \n"
   ]
  },
  {
   "cell_type": "code",
   "execution_count": 45,
   "id": "47dc74d7-7498-43e4-b8b2-f431bd9057b9",
   "metadata": {},
   "outputs": [
    {
     "data": {
      "text/plain": [
       "list"
      ]
     },
     "execution_count": 45,
     "metadata": {},
     "output_type": "execute_result"
    }
   ],
   "source": [
    "type(nums)"
   ]
  },
  {
   "cell_type": "code",
   "execution_count": null,
   "id": "3b7e4430-ff2c-43d4-8fb9-e3892052c673",
   "metadata": {},
   "outputs": [],
   "source": []
  }
 ],
 "metadata": {
  "kernelspec": {
   "display_name": "Python 3 (ipykernel)",
   "language": "python",
   "name": "python3"
  },
  "language_info": {
   "codemirror_mode": {
    "name": "ipython",
    "version": 3
   },
   "file_extension": ".py",
   "mimetype": "text/x-python",
   "name": "python",
   "nbconvert_exporter": "python",
   "pygments_lexer": "ipython3",
   "version": "3.13.5"
  }
 },
 "nbformat": 4,
 "nbformat_minor": 5
}
